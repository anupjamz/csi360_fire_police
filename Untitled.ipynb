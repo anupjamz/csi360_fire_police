{
 "cells": [
  {
   "cell_type": "code",
   "execution_count": 1,
   "id": "e61efbbd",
   "metadata": {},
   "outputs": [],
   "source": [
    "# %jupyter notebook"
   ]
  },
  {
   "cell_type": "code",
   "execution_count": 2,
   "id": "3e97bb9a",
   "metadata": {},
   "outputs": [],
   "source": [
    "# Dependencies and Setup\n",
    "import pandas as pd\n",
    "\n",
    "# Store filepath in a variable\n",
    "police_data = 'Resources/police_departments.csv'\n",
    "# fire_data = 'Resources/usfa-registry-national.csv'\n",
    "# agency_name = 'Resources/27681-0001-Data.txt'\n",
    "# agency_addrs ='Resources/38773-0001-Data.txt'\n",
    "\n",
    "# Read each of the respective files (police, fire, agency_n, agency_addrs) and store into Pandas dataframe\n",
    "police_data_df = pd.read_csv(police_data)\n"
   ]
  },
  {
   "cell_type": "code",
   "execution_count": 3,
   "id": "52f9ad77",
   "metadata": {
    "scrolled": true
   },
   "outputs": [],
   "source": [
    "# show header\n",
    "# police_data_df.head()"
   ]
  },
  {
   "cell_type": "code",
   "execution_count": 4,
   "id": "04610c83",
   "metadata": {},
   "outputs": [],
   "source": [
    "# Rename headers according to specification\n",
    "police_data_df = police_data_df.rename(columns={\n",
    "    'name': 'agency_name',\n",
    "    'sworn' : 'sworn_active_persnl',\n",
    "    'type' : 'agency_type'\n",
    "})"
   ]
  },
  {
   "cell_type": "code",
   "execution_count": 5,
   "id": "dc50074c",
   "metadata": {},
   "outputs": [],
   "source": [
    "#rename_dict = {\n",
    "#    'name': 'agency_name',\n",
    "#    'sworn' : 'sworn_active_persnl',\n",
    "#    'type' : 'agency_type',\n",
    "#    'FDID' : 'agency_id',\n",
    "#    'Fire dept name' : 'agency_name',\n",
    "#    'HQ addr1' : 'hq_addr1',\n",
    "#    'HQ addr2' : 'hq_addr2',\n",
    "#    'HQ city' : 'hq_city',\n",
    "#    'HQ state' : 'hq_state',\n",
    "#    'HQ zip' : 'hq_zip',\n",
    "#    'Mail addr1' : 'addr1',\n",
    "#    'Mail addr2' : 'addr2',\n",
    "#    'Mail city' : 'city',\n",
    "#    'Mail state' : 'state',\n",
    "#    'Mail zip' : 'zip',\n",
    "#    'HQ phone' : 'hq_ph',\n",
    "#    'HQ fax' : 'hq_fax',\n",
    "#    'County' : 'county',\n",
    "#    'Dept Type' : 'agency_type',\n",
    "#    'Organization Type' : 'org_type',\n",
    "#    'Website' : 'website'\n",
    "#}"
   ]
  },
  {
   "cell_type": "code",
   "execution_count": 6,
   "id": "12a32c80",
   "metadata": {},
   "outputs": [
    {
     "name": "stdout",
     "output_type": "stream",
     "text": [
      "Index(['agency_name', 'sworn_active_persnl', 'agency_type', 'state', 'county',\n",
      "       'city', 'ftciv', 'ptciv', 'ptsworn', 'zip', 'fips'],\n",
      "      dtype='object')\n"
     ]
    }
   ],
   "source": [
    "print(police_data_df.columns)"
   ]
  },
  {
   "cell_type": "code",
   "execution_count": 7,
   "id": "5fd5d3ec",
   "metadata": {},
   "outputs": [],
   "source": [
    "# Drop named columns\n",
    "police_data = police_data_df.drop(['ftciv', 'ptciv', 'ptsworn'], axis=1)"
   ]
  },
  {
   "cell_type": "code",
   "execution_count": 8,
   "id": "277003b7",
   "metadata": {},
   "outputs": [
    {
     "name": "stdout",
     "output_type": "stream",
     "text": [
      "Index(['agency_name', 'sworn_active_persnl', 'agency_type', 'state', 'county',\n",
      "       'city', 'ftciv', 'ptciv', 'ptsworn', 'zip', 'fips'],\n",
      "      dtype='object')\n"
     ]
    }
   ],
   "source": [
    "print(police_data_df.columns)"
   ]
  },
  {
   "cell_type": "code",
   "execution_count": 9,
   "id": "acb05bc2",
   "metadata": {},
   "outputs": [],
   "source": [
    "#Save modified df to a new file\n",
    "police_data_df.to_csv(r'C:\\Users\\jchan\\csi360_fire_police\\Resources\\police_data_clean.csv', index=False)"
   ]
  }
 ],
 "metadata": {
  "kernelspec": {
   "display_name": "Python 3 (ipykernel)",
   "language": "python",
   "name": "python3"
  },
  "language_info": {
   "codemirror_mode": {
    "name": "ipython",
    "version": 3
   },
   "file_extension": ".py",
   "mimetype": "text/x-python",
   "name": "python",
   "nbconvert_exporter": "python",
   "pygments_lexer": "ipython3",
   "version": "3.9.18"
  }
 },
 "nbformat": 4,
 "nbformat_minor": 5
}
