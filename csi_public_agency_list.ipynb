{
 "cells": [
  {
   "cell_type": "markdown",
   "id": "24e0f5ed",
   "metadata": {},
   "source": [
    "# Geocoding and Mapping of Fire and Police Departments: Colorado Focus\n",
    "\n",
    "- Import and clean data from multiple sources.\n",
    "- Merge datasets based on the common `agency_name` column to consolidate information.\n",
    "- Identify and fill in missing data from the primary dataset using supplementary data sources.\n",
    "- Geocode addresses to obtain latitude and longitude coordinates.\n",
    "- Export the cleaned, organized, and geocoded data to CSV files for further analysis and reporting."
   ]
  },
  {
   "cell_type": "code",
   "execution_count": null,
   "id": "REDACTED",
   "metadata": {},
   "outputs": [],
   "source": [
    "# Install required libraries with conda\n",
    "!conda install -y pandas geopy folium -c conda-forge\n",
    "\n"
   ]
  },
  {
   "cell_type": "code",
   "execution_count": null,
   "id": "369d6011",
   "metadata": {},
   "outputs": [],
   "source": [
    "# Dependencies and Setup\n",
    "import pandas as pd\n",
    "from geopy.geocoders import Nominatim\n",
    "from geopy.distance import geodesic\n",
    "import folium\n",
    "from folium import plugins"
   ]
  },
  {
   "cell_type": "code",
   "execution_count": null,
   "id": "3e97bb9a",
   "metadata": {
    "scrolled": true
   },
   "outputs": [],
   "source": [
    "# Store filepath in a variable\n",
    "police_data = 'resources/data/police_departments.csv'\n",
    "fire_data = 'resources/data/usfa-registry-national.txt'\n",
    "agency_addrs = 'resources/data/27681-0001-Data.txt'\n",
    "co_leads =  'resources/data/co_leads.csv'\n",
    "\n",
    "# Read each of the respective files (police, fire, agency_n, agency_addrs) and store into Pandas dataframe\n",
    "police_data_df = pd.read_csv(police_data)\n",
    "fire_data_df = pd.read_csv(fire_data, delimiter='\\t', encoding='ISO-8859-1')\n",
    "agency_addrs_df = pd.read_csv(agency_addrs, delimiter='\\t', encoding='ISO-8859-1')\n",
    "co_leads_df = pd.read_csv(co_leads)"
   ]
  },
  {
   "cell_type": "code",
   "execution_count": null,
   "id": "ff2c9e3e",
   "metadata": {
    "scrolled": true
   },
   "outputs": [],
   "source": [
    "# Show header for DataFrames\n",
    "display(police_data_df.head(), fire_data_df.head(), agency_addrs_df.head(), co_leads_df.head())\n"
   ]
  },
  {
   "cell_type": "code",
   "execution_count": null,
   "id": "dc50074c",
   "metadata": {
    "scrolled": true
   },
   "outputs": [],
   "source": [
    "# Define dictionaries for renaming columns, and standardize column names that have same data\n",
    "police_rename_dict = {\n",
    "    'name': 'agency_name',\n",
    "    'sworn' : 'sworn_active_persnl',\n",
    "    'type' : 'agency_type'\n",
    "}\n",
    "\n",
    "fire_rename_dict = {\n",
    "    'Fire dept name' : 'agency_name',\n",
    "    'HQ addr1' : 'hq_addr1',\n",
    "    'HQ addr2' : 'hq_addr2',\n",
    "    'HQ city' : 'hq_city',\n",
    "    'HQ state' : 'hq_state',\n",
    "    'HQ zip' : 'hq_zip',\n",
    "    'Mail addr1' : 'addr1',\n",
    "    'Mail addr2' : 'addr2',\n",
    "    'Mail PO box' : 'po_box',\n",
    "    'Mail city' : 'city',\n",
    "    'Mail state' : 'state',\n",
    "    'Mail zip' : 'zip',\n",
    "    'HQ phone' : 'hq_ph',\n",
    "    'HQ fax' : 'hq_fax',\n",
    "    'County' : 'county',\n",
    "    'Dept Type' : 'agency_type',\n",
    "    'Organization Type' : 'org_type',\n",
    "    'Website' : 'website',\n",
    "    'Active Firefighters - Career' : 'sworn_active_persnl'\n",
    "}\n",
    "\n",
    "addrs_rename_dict = {\n",
    "    'AGCYNAME' : 'agency_name',\n",
    "    'ADDR1' : 'addr1', \n",
    "    'ADDR2' : 'addr2',\n",
    "    'CITY' : 'city',\n",
    "    'STATE' : 'state',\n",
    "    'ZIP' : 'zip',\n",
    "    'COUNTY' : 'county'\n",
    "}\n",
    "\n",
    "# Rename columns in police_data_df\n",
    "police_data_df.rename(columns=police_rename_dict, inplace=True)\n",
    "\n",
    "# Rename columns in fire_data_df\n",
    "fire_data_df.rename(columns=fire_rename_dict, inplace=True)\n",
    "\n",
    "# Rename columns in agency_addrs_df\n",
    "agency_addrs_df.rename(columns=addrs_rename_dict, inplace=True)\n",
    "\n",
    "# Verify: Display the first few rows to verify the renaming\n",
    "display(police_data_df.head(), fire_data_df.head(), agency_addrs_df.head())"
   ]
  },
  {
   "cell_type": "code",
   "execution_count": null,
   "id": "5fd5d3ec",
   "metadata": {},
   "outputs": [],
   "source": [
    "# Drop named columns\n",
    "police_data_df = police_data_df.drop(['ftciv', 'ptciv', 'ptsworn'], axis=1)\n",
    "fire_data_df = fire_data_df.drop(['FDID', 'Number Of Stations', 'Active Firefighters - Volunteer', 'Active Firefighters - Paid per Call', 'Non-Firefighting - Civilian', 'Non-Firefighting - Volunteer', 'Primary agency for emergency mgmt'], axis=1)\n",
    "\n",
    "#Save dataframe to a new file\n",
    "police_data_df.to_csv(r'C:\\Users\\jchan\\csi360_fire_police\\resources\\Output\\police_data_clean_df.csv', index=False)\n",
    "fire_data_df.to_csv(r'C:\\Users\\jchan\\csi360_fire_police\\resources\\Output\\fire_data_clean_df.csv', index=False)\n"
   ]
  },
  {
   "cell_type": "code",
   "execution_count": null,
   "id": "e66557cd",
   "metadata": {},
   "outputs": [],
   "source": [
    "# Select several columns to keep.\n",
    "columns_to_select = ['agency_name', 'addr1', 'addr2']\n",
    "\n",
    "# Select the specified columns\n",
    "agency_addrs_df = agency_addrs_df[columns_to_select]\n",
    "\n",
    "print(agency_addrs_df.head())"
   ]
  },
  {
   "cell_type": "code",
   "execution_count": null,
   "id": "3fa30f64",
   "metadata": {},
   "outputs": [],
   "source": [
    "# For ease of commenting df1 is police_data_df and df2 is agency_addrs_df\n",
    "# Test add column and iterate over rows to plug in missing data.\n",
    "# Step 1: Add df2 columns to df1 with no data (initialize with empty strings)\n",
    "for column in agency_addrs_df.columns:\n",
    "    if column != 'agency_name':  # Avoid adding the common column again\n",
    "        police_data_df[column] = \"\"\n",
    "\n",
    "# For each row in df1, find matching agency_name in in df2  \n",
    "# For each matching row in df2, fill in missing data in df1 columns\n",
    "for index, row in police_data_df.iterrows():\n",
    "\n",
    "    #Find df2 row where agency_name matches current row in df1\n",
    "    matching_row = agency_addrs_df[agency_addrs_df['agency_name'] == row['agency_name']]\n",
    "    \n",
    "    if not matching_row.empty:\n",
    "        # Step 3: Insert corresponding data into df1\n",
    "        for column in agency_addrs_df.columns:\n",
    "            if column != 'agency_name':  # Skip the common column\n",
    "                police_data_df.at[index, column] = matching_row.iloc[0][column]\n",
    "\n",
    "# Display the updated df1\n",
    "print(police_data_df.head())"
   ]
  },
  {
   "cell_type": "code",
   "execution_count": null,
   "id": "f20c5a8a",
   "metadata": {},
   "outputs": [],
   "source": [
    "# Sort DataFrame by agency_name in alphabetical order (A to Z)\n",
    "police_data_sorted = police_data_df.sort_values(by='agency_name', ascending=True)\n",
    "\n",
    "# Display the sorted DataFrame\n",
    "display(police_data_sorted.head())"
   ]
  },
  {
   "cell_type": "code",
   "execution_count": null,
   "id": "c5c48501",
   "metadata": {},
   "outputs": [],
   "source": [
    "# Concatenate the DataFrames vertically\n",
    "merged_df = pd.concat([police_data_df, fire_data_df], ignore_index=True)\n",
    "\n",
    "# Replace NaN values with a blank space if needed\n",
    "merged_df.fillna(\" \", inplace=True)\n",
    "\n",
    "# Display the merged DataFrame\n",
    "print(merged_df.head())\n"
   ]
  },
  {
   "cell_type": "code",
   "execution_count": null,
   "id": "291a7a4d",
   "metadata": {},
   "outputs": [],
   "source": [
    "# List the columns in the desired order\n",
    "new_column_order = [\n",
    "    'agency_name', 'agency_type', 'sworn_active_persnl', 'hq_addr1', 'hq_addr2',\n",
    "    'hq_city', 'hq_state', 'hq_zip', 'addr1', 'addr2', 'po_box', 'city', 'state', \n",
    "    'county', 'zip', 'hq_ph', 'hq_fax', 'org_type', 'website', 'fips'\n",
    "]\n",
    "# Reorder the DataFrame columns\n",
    "merged_df = merged_df[new_column_order]\n",
    "\n",
    "# Display the DataFrame to check the new order\n",
    "print(merged_df.head())"
   ]
  },
  {
   "cell_type": "code",
   "execution_count": null,
   "id": "69795615",
   "metadata": {},
   "outputs": [],
   "source": [
    "#Save merged dataframe to a new file\n",
    "merged_df.to_csv(r'C:\\Users\\jchan\\csi360_fire_police\\resources\\Output\\merged_data2.csv', index=False)\n"
   ]
  },
  {
   "cell_type": "markdown",
   "id": "a739a671",
   "metadata": {},
   "source": [
    "## Geocode Colorado Fire Deptartment Addresses\n"
   ]
  },
  {
   "cell_type": "code",
   "execution_count": null,
   "id": "228e01cc",
   "metadata": {},
   "outputs": [],
   "source": [
    "# Initialize geolocator. Nominatim is good for small datasets\n",
    "geolocator = Nominatim(user_agent=\"geoapiExercises\")\n"
   ]
  },
  {
   "cell_type": "code",
   "execution_count": null,
   "id": "3992f169-81ad-4ec9-8f11-e894fb3c83fb",
   "metadata": {},
   "outputs": [],
   "source": []
  }
 ],
 "metadata": {
  "kernelspec": {
   "display_name": "Python 3 (ipykernel)",
   "language": "python",
   "name": "python3"
  },
  "language_info": {
   "codemirror_mode": {
    "name": "ipython",
    "version": 3
   },
   "file_extension": ".py",
   "mimetype": "text/x-python",
   "name": "python",
   "nbconvert_exporter": "python",
   "pygments_lexer": "ipython3",
   "version": "3.11.9"
  }
 },
 "nbformat": 4,
 "nbformat_minor": 5
}
