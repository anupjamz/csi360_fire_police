{
 "cells": [
  {
   "cell_type": "code",
   "execution_count": null,
   "id": "e61efbbd",
   "metadata": {},
   "outputs": [],
   "source": [
    "# %jupyter notebook"
   ]
  },
  {
   "cell_type": "code",
   "execution_count": null,
   "id": "3e97bb9a",
   "metadata": {
    "scrolled": true
   },
   "outputs": [],
   "source": [
    "# Dependencies and Setup\n",
    "import pandas as pd\n",
    "from IPython.display import display\n",
    "\n",
    "# Store filepath in a variable\n",
    "police_data = 'Resources/police_departments.csv'\n",
    "fire_data = 'Resources/usfa-registry-national.txt'\n",
    "# agency_name = 'Resources/27681-0001-Data.txt'\n",
    "# agency_addrs ='Resources/38773-0001-Data.txt'\n",
    "\n",
    "# Read each of the respective files (police, fire, agency_n, agency_addrs) and store into Pandas dataframe\n",
    "police_data_df = pd.read_csv(police_data)\n",
    "fire_data_df = pd.read_csv(fire_data, delimiter='\\t', encoding='ISO-8859-1')\n"
   ]
  },
  {
   "cell_type": "code",
   "execution_count": null,
   "id": "ff2c9e3e",
   "metadata": {
    "scrolled": true
   },
   "outputs": [],
   "source": [
    "# Show header for both DataFrames\n",
    "display(police_data_df.head(), fire_data_df.head())\n"
   ]
  },
  {
   "cell_type": "code",
   "execution_count": null,
   "id": "a7556b6a",
   "metadata": {
    "scrolled": true
   },
   "outputs": [],
   "source": [
    "# Fill NaN values with an empty field (empty string) for both DataFrames\n",
    "# Perhaps move this code down after doing all the refactoring.\n",
    "# police_data_df = police_data_df.fillna('')\n",
    "# fire_data_df = fire_data_df.fillna('')\n",
    "\n",
    "# Verify: Display the first few rows to verify the changes\n",
    "display(police_data_df.head(), fire_data_df.head())\n"
   ]
  },
  {
   "cell_type": "code",
   "execution_count": null,
   "id": "dc50074c",
   "metadata": {
    "scrolled": true
   },
   "outputs": [],
   "source": [
    "# Define dictionaries for renaming columns, and standardize column names that have same data\n",
    "police_rename_dict = {\n",
    "    'name': 'agency_name',\n",
    "    'sworn' : 'sworn_active_persnl',\n",
    "    'type' : 'agency_type'\n",
    "}\n",
    "\n",
    "fire_rename_dict = {\n",
    "    'Fire dept name' : 'agency_name',\n",
    "    'HQ addr1' : 'hq_addr1',\n",
    "    'HQ addr2' : 'hq_addr2',\n",
    "    'HQ city' : 'hq_city',\n",
    "    'HQ state' : 'hq_state',\n",
    "    'HQ zip' : 'hq_zip',\n",
    "    'Mail addr1' : 'addr1',\n",
    "    'Mail addr2' : 'addr2',\n",
    "    'Mail PO box' : 'po_box',\n",
    "    'Mail city' : 'city',\n",
    "    'Mail state' : 'state',\n",
    "    'Mail zip' : 'zip',\n",
    "    'HQ phone' : 'hq_ph',\n",
    "    'HQ fax' : 'hq_fax',\n",
    "    'County' : 'county',\n",
    "    'Dept Type' : 'agency_type',\n",
    "    'Organization Type' : 'org_type',\n",
    "    'Website' : 'website',\n",
    "    'Active Firefighters - Career' : 'sworn_active_persnl'\n",
    "}\n",
    "\n",
    "# Rename columns in police_data_df\n",
    "police_data_df.rename(columns=police_rename_dict, inplace=True)\n",
    "\n",
    "# Rename columns in fire_data_df\n",
    "fire_data_df.rename(columns=fire_rename_dict, inplace=True)\n",
    "\n",
    "# Verify: Display the first few rows to verify the renaming\n",
    "display(police_data_df.head(), fire_data_df.head())"
   ]
  },
  {
   "cell_type": "code",
   "execution_count": null,
   "id": "5fd5d3ec",
   "metadata": {},
   "outputs": [],
   "source": [
    "# Drop named columns\n",
    "police_data_df = police_data_df.drop(['ftciv', 'ptciv', 'ptsworn'], axis=1)\n",
    "fire_data_df = fire_data_df.drop(['FDID', 'Number Of Stations', 'Active Firefighters - Volunteer', 'Active Firefighters - Paid per Call', 'Non-Firefighting - Civilian', 'Non-Firefighting - Volunteer', 'Primary agency for emergency mgmt'], axis=1)"
   ]
  },
  {
   "cell_type": "code",
   "execution_count": null,
   "id": "c5c48501",
   "metadata": {},
   "outputs": [],
   "source": [
    "# Reset index for both DataFrames to ensure unique indices\n",
    "police_data_df.reset_index(drop=True, inplace=True)\n",
    "fire_data_df.reset_index(drop=True, inplace=True)\n",
    "\n",
    "# Concatenate the DataFrames vertically\n",
    "merged_df = pd.concat([police_data_df, fire_data_df], ignore_index=True)\n",
    "\n",
    "# Replace NaN values with a blank space if needed\n",
    "merged_df.fillna(\" \", inplace=True)\n",
    "\n",
    "# Display the merged DataFrame\n",
    "print(merged_df.head())\n"
   ]
  },
  {
   "cell_type": "code",
   "execution_count": null,
   "id": "291a7a4d",
   "metadata": {},
   "outputs": [],
   "source": [
    "# List the columns in the desired order\n",
    "new_column_order = [\n",
    "    'agency_name', 'agency_type', 'sworn_active_persnl', 'hq_addr1', 'hq_addr2',\n",
    "    'hq_city', 'hq_state', 'hq_zip', 'addr1', 'addr2', 'po_box', 'city', 'state', \n",
    "    'county', 'zip', 'hq_ph', 'hq_fax', 'org_type', 'website', 'fips'\n",
    "]\n",
    "# Reorder the DataFrame columns\n",
    "merged_df = merged_df[new_column_order]\n",
    "\n",
    "# Display the DataFrame to check the new order\n",
    "print(merged_df.head())"
   ]
  },
  {
   "cell_type": "code",
   "execution_count": null,
   "id": "69795615",
   "metadata": {},
   "outputs": [],
   "source": [
    "#Save merged dataframe to a new file\n",
    "merged_df.to_csv(r'C:\\Users\\jchan\\csi360_fire_police\\Resources\\merged_data.csv', index=False)\n"
   ]
  }
 ],
 "metadata": {
  "kernelspec": {
   "display_name": "Python 3 (ipykernel)",
   "language": "python",
   "name": "python3"
  },
  "language_info": {
   "codemirror_mode": {
    "name": "ipython",
    "version": 3
   },
   "file_extension": ".py",
   "mimetype": "text/x-python",
   "name": "python",
   "nbconvert_exporter": "python",
   "pygments_lexer": "ipython3",
   "version": "3.9.18"
  }
 },
 "nbformat": 4,
 "nbformat_minor": 5
}
